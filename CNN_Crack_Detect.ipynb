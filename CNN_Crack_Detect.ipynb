{
  "cells": [
    {
      "cell_type": "markdown",
      "id": "2d75863a",
      "metadata": {
        "id": "2d75863a"
      },
      "source": [
        "# **AlexNet**"
      ]
    },
    {
      "cell_type": "code",
      "execution_count": null,
      "id": "1879c57b",
      "metadata": {
        "id": "1879c57b"
      },
      "outputs": [],
      "source": [
        "import pickle\n",
        "import numpy as np\n",
        "import tensorflow as tf\n",
        "import matplotlib.pyplot as plt\n",
        "from tensorflow.keras.models import Model\n",
        "from tensorflow.keras.layers import Dense, Flatten, GlobalAveragePooling2D, Conv2D, MaxPooling2D, Dropout\n",
        "from tensorflow.keras.preprocessing import image\n",
        "from tensorflow.keras.preprocessing.image import ImageDataGenerator\n",
        "from tensorflow.keras.models import load_model, save_model\n",
        "from tensorflow.keras.losses import binary_crossentropy, categorical_crossentropy\n",
        "from tensorflow.keras.optimizers import Adam\n",
        "from tensorflow.keras.callbacks import EarlyStopping"
      ]
    },
    {
      "cell_type": "code",
      "execution_count": null,
      "id": "72f5eb21",
      "metadata": {},
      "outputs": [],
      "source": [
        "import zipfile\n",
        "import os\n",
        "\n",
        "# Unzip only if not already extracted\n",
        "zip_path = r\"C:\\Users\\Admin\\Downloads\\cracked.zip\"\n",
        "extract_path = \"crack_dataset\"\n",
        "\n",
        "if not os.path.exists(extract_path):\n",
        "    with zipfile.ZipFile(zip_path, 'r') as zip_ref:\n",
        "        zip_ref.extractall(extract_path)\n",
        "train_dir = os.path.join(\"crack_dataset\", \"train\")\n",
        "val_dir = os.path.join(\"crack_dataset\", \"val\")"
      ]
    },
    {
      "cell_type": "code",
      "execution_count": null,
      "id": "13504374",
      "metadata": {
        "colab": {
          "base_uri": "https://localhost:8080/"
        },
        "id": "13504374",
        "outputId": "11b33e3e-446d-490c-a155-5708d0098102"
      },
      "outputs": [],
      "source": [
        "data_gen= ImageDataGenerator(\n",
        "    rescale=1./255,\n",
        "    validation_split=0.2)\n",
        "train_generator = data_gen.flow_from_directory(\n",
        "    extract_path,\n",
        "    target_size=(224, 224),\n",
        "    batch_size=16,\n",
        "    class_mode='binary',\n",
        "    subset='training')\n",
        "val_gen = data_gen.flow_from_directory(\n",
        "    extract_path,\n",
        "    target_size=(224, 224),\n",
        "    batch_size=16,\n",
        "    class_mode='binary',\n",
        "    subset='validation')"
      ]
    },
    {
      "cell_type": "code",
      "execution_count": null,
      "id": "01b0260f",
      "metadata": {
        "colab": {
          "base_uri": "https://localhost:8080/",
          "height": 612
        },
        "id": "01b0260f",
        "outputId": "9f8d03cb-5026-4a26-a119-7d982ae5c3e4"
      },
      "outputs": [],
      "source": [
        "# Define the AlexNet architecture\n",
        "model_alexnet = tf.keras.Sequential([\n",
        "    # Layer 1\n",
        "    Conv2D(96, (11, 11), strides=(4, 4), activation='relu', input_shape=(224, 224, 3)),\n",
        "    MaxPooling2D((3, 3), strides=(2, 2)),\n",
        "    # Layer 2\n",
        "    Conv2D(256, (5, 5), activation='relu', padding='same'),\n",
        "    MaxPooling2D((3, 3), strides=(2, 2)),\n",
        "    # Layer 3\n",
        "    Conv2D(384, (3, 3), activation='relu', padding='same'),\n",
        "    # Layer 4\n",
        "    Conv2D(384, (3, 3), activation='relu', padding='same'),\n",
        "    # Layer 5\n",
        "    Conv2D(256, (3, 3), activation='relu', padding='same'),\n",
        "    MaxPooling2D((3, 3), strides=(2, 2)),\n",
        "    Flatten(),\n",
        "    # Layer 6\n",
        "    Dense(4096, activation='relu'),\n",
        "    Dropout(0.5),\n",
        "    # Layer 7\n",
        "    Dense(4096, activation='relu'),\n",
        "    Dropout(0.5),\n",
        "    # Output layer\n",
        "    Dense(1, activation='sigmoid')\n",
        "])\n",
        "\n",
        "# Summary of the model\n",
        "model_alexnet.summary()"
      ]
    },
    {
      "cell_type": "code",
      "execution_count": null,
      "id": "5e82387b",
      "metadata": {
        "id": "5e82387b"
      },
      "outputs": [],
      "source": [
        "model_alexnet.compile(\n",
        "     optimizer=Adam(learning_rate=1e-4),\n",
        "     loss='binary_crossentropy',\n",
        "     metrics=['accuracy'])\n",
        "# Define the EarlyStopping callback\n",
        "early = EarlyStopping(monitor='val_loss', patience=3, restore_best_weights=True)"
      ]
    },
    {
      "cell_type": "code",
      "execution_count": null,
      "id": "aee0d3cb",
      "metadata": {
        "colab": {
          "base_uri": "https://localhost:8080/"
        },
        "id": "aee0d3cb",
        "outputId": "825db581-6b83-450b-896c-3db4fdfcde12"
      },
      "outputs": [],
      "source": [
        "# Train the model\n",
        "history=model_alexnet.fit(\n",
        "     train_generator,\n",
        "     validation_data=val_gen,\n",
        "     epochs=3,\n",
        "     callbacks=[early],\n",
        "     verbose=1)"
      ]
    },
    {
      "cell_type": "markdown",
      "id": "679c315f",
      "metadata": {
        "id": "679c315f"
      },
      "source": [
        "# **Saving the model**"
      ]
    },
    {
      "cell_type": "code",
      "execution_count": null,
      "id": "adc82009",
      "metadata": {
        "id": "adc82009"
      },
      "outputs": [],
      "source": [
        "model_alexnet.save('model_alexnet.h5')\n",
        "# Save history\n",
        "import pickle\n",
        "with open('history.pkl',\"wb\") as f:\n",
        "    pickle.dump(history.history,f)"
      ]
    },
    {
      "cell_type": "markdown",
      "id": "095c215b",
      "metadata": {
        "id": "095c215b"
      },
      "source": [
        "# **Load the Model Model**"
      ]
    },
    {
      "cell_type": "code",
      "execution_count": null,
      "id": "2efe3419",
      "metadata": {
        "colab": {
          "base_uri": "https://localhost:8080/"
        },
        "id": "2efe3419",
        "outputId": "4f26dc98-5f9b-4074-bc0e-cf181dad66ef"
      },
      "outputs": [],
      "source": [
        "loaded_model = load_model('model_alexnet.h5')\n",
        "with open('history.pkl',\"rb\") as f:\n",
        "    history=pickle.load(f)"
      ]
    },
    {
      "cell_type": "markdown",
      "id": "6c9d0369",
      "metadata": {
        "id": "6c9d0369"
      },
      "source": [
        "# **Visualization of training over epoch**"
      ]
    },
    {
      "cell_type": "code",
      "execution_count": null,
      "id": "606ddfd1",
      "metadata": {
        "colab": {
          "base_uri": "https://localhost:8080/",
          "height": 927
        },
        "id": "606ddfd1",
        "outputId": "d2983e4b-2e36-4fec-f51b-26f7dff3bbd9"
      },
      "outputs": [],
      "source": [
        "plt.plot(history['accuracy'], label='train_accuracy')\n",
        "plt.plot(history['val_accuracy'], label='val_accuracy')\n",
        "plt.legend()\n",
        "plt.title('Model Accuracy')\n",
        "plt.xlabel('Epochs')\n",
        "plt.ylabel('Accuracy')\n",
        "plt.show()\n",
        "\n",
        "plt.plot(history['loss'], label='train_loss')\n",
        "plt.plot(history['val_loss'], label='val_loss')\n",
        "plt.legend()\n",
        "plt.title('Model Loss')\n",
        "plt.xlabel('Epochs')\n",
        "plt.ylabel('Loss')\n",
        "plt.show()"
      ]
    },
    {
      "cell_type": "markdown",
      "id": "q4HueWlrNgZa",
      "metadata": {
        "id": "q4HueWlrNgZa"
      },
      "source": [
        "# **Prediction**"
      ]
    },
    {
      "cell_type": "code",
      "execution_count": null,
      "id": "ojEJYVc3L9rI",
      "metadata": {
        "id": "ojEJYVc3L9rI"
      },
      "outputs": [],
      "source": [
        "class_labels=[\"Cracked\", \"Not Cracked\"]\n",
        "def predict_crack(img_path):\n",
        "    img=image.load_img(img_path,target_size=(224,224))\n",
        "    img_array=image.img_to_array(img)\n",
        "    img_array=img_array/255.0\n",
        "    img_array=np.expand_dims(img_array,axis=0)\n",
        "    prediction=loaded_model.predict(img_array)\n",
        "    predicted_class=np.argmax(prediction,axis=1)\n",
        "    confidence=np.max(prediction)\n",
        "    print(f\"Prediction: {class_labels[predicted_class]} (Confidence: {confidence:.2f})\")\n",
        "    plt.imshow(img)\n",
        "    plt.title(f\"{class_labels[predicted_class]} {confidence*100:.2f}\")\n",
        "    plt.axis(\"off\")\n",
        "    plt.show()\n",
        "test_path=input(\"Enter image path: \")\n",
        "predict_crack(test_path)"
      ]
    }
  ],
  "metadata": {
    "accelerator": "GPU",
    "colab": {
      "gpuType": "T4",
      "provenance": []
    },
    "kernelspec": {
      "display_name": "tf_str_env",
      "language": "python",
      "name": "python3"
    },
    "language_info": {
      "codemirror_mode": {
        "name": "ipython",
        "version": 3
      },
      "file_extension": ".py",
      "mimetype": "text/x-python",
      "name": "python",
      "nbconvert_exporter": "python",
      "pygments_lexer": "ipython3",
      "version": "3.10.18"
    }
  },
  "nbformat": 4,
  "nbformat_minor": 5
}
